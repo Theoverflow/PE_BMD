{
 "metadata": {
  "language_info": {
   "codemirror_mode": {
    "name": "ipython",
    "version": 3
   },
   "file_extension": ".py",
   "mimetype": "text/x-python",
   "name": "python",
   "nbconvert_exporter": "python",
   "pygments_lexer": "ipython3",
   "version": "3.7.9-final"
  },
  "orig_nbformat": 2,
  "kernelspec": {
   "name": "python3",
   "display_name": "Python 3.7.9 64-bit ('mlbmd')",
   "metadata": {
    "interpreter": {
     "hash": "bea51f399c99543daa3aca7732c4670ea76262ac5b91ac7326ba01b83c652abd"
    }
   }
  }
 },
 "nbformat": 4,
 "nbformat_minor": 2,
 "cells": [
  {
   "cell_type": "code",
   "execution_count": 49,
   "metadata": {},
   "outputs": [],
   "source": [
    "import numpy as np\n",
    "import h5py\n",
    "f1 = h5py.File('./Correlation_stress_datasets/1st_stress.h5', 'r')\n",
    "h1 = {\"00:07:80:0F:80:1A\": {\"position\": 0, \"device\": \"biosignalsplux\", \"device name\": \"00:07:80:0F:80:1A\", \"device connection\": \"/dev/tty.biosignalsplux-Bluetoot\", \"sampling rate\": 1000, \"resolution\": [16, 16, 16, 16], \"firmware version\": 775, \"comments\": \"\", \"keywords\": \"\", \"mode\": 0, \"sync interval\": 2, \"date\": \"2020-12-14\", \"time\": \"12:53:59.523\", \"channels\": [1, 2, 3, 4], \"sensor\": [\"EGG\", \"EDA\", \"RESPIRATION\", \"XYZ\"], \"label\": [\"CH1\", \"CH2\", \"CH3\", \"CH4\"], \"column\": [\"nSeq\", \"DI\", \"CH1\", \"CH2\", \"CH3\", \"CH4\"], \"special\": [{\"SpO2\": [80, 40, 5, 4, 3, 3]}, {\"SpO2\": [80, 40, 5, 4, 3, 3]}, {\"SpO2\": [80, 40, 5, 4, 3, 3]}, {\"SpO2\": [80, 40, 5, 4, 3, 3]}, {\"SpO2\": [80, 40, 5, 4, 3, 3]}, {\"SpO2\": [80, 40, 5, 4, 3, 3]}, {\"SpO2\": [80, 40, 5, 4, 3, 3]}, {\"SpO2\": [80, 40, 5, 4, 3, 3]}], \"digital IO\": [0, 1], \"sleeve color\": [\"\", \"\", \"\", \"\"]}}\n",
    "\n",
    "f7 = h5py.File('./Correlation_stress_datasets/7th_stress.h5', 'r')\n",
    "dset1 = f1['00:07:80:0F:80:1A']\n",
    "dset7 = f7['00:07:80:0F:80:1A']\n"
   ]
  },
  {
   "cell_type": "code",
   "execution_count": 50,
   "metadata": {},
   "outputs": [
    {
     "output_type": "stream",
     "name": "stdout",
     "text": [
      "digital\n['digital_1']\n<HDF5 dataset \"digital_1\": shape (330600, 1), type \"<u2\"> \n\nevents\n['digital', 'sync']\n<HDF5 dataset \"digital\": shape (1, 4), type \"<u4\"> \n\n<HDF5 dataset \"sync\": shape (0, 3), type \"<u4\"> \n\nplugin\n['action', 'events', 'signalStatistics']\n<HDF5 group \"/00:07:80:0F:80:1A/plugin/action\" (0 members)> \n\n<HDF5 group \"/00:07:80:0F:80:1A/plugin/events\" (2 members)> \n\n<HDF5 group \"/00:07:80:0F:80:1A/plugin/signalStatistics\" (0 members)> \n\nraw\n['channel_1', 'channel_2', 'channel_3', 'channel_4', 'nSeq']\n<HDF5 dataset \"channel_1\": shape (330600, 1), type \"<u4\"> \n\n<HDF5 dataset \"channel_2\": shape (330600, 1), type \"<u4\"> \n\n<HDF5 dataset \"channel_3\": shape (330600, 1), type \"<u4\"> \n\n<HDF5 dataset \"channel_4\": shape (330600, 1), type \"<u4\"> \n\n<HDF5 dataset \"nSeq\": shape (330600, 1), type \"<i8\"> \n\nsupport\n['level_10', 'level_100', 'level_1000']\n<HDF5 group \"/00:07:80:0F:80:1A/support/level_10\" (5 members)> \n\n<HDF5 group \"/00:07:80:0F:80:1A/support/level_100\" (5 members)> \n\n<HDF5 group \"/00:07:80:0F:80:1A/support/level_1000\" (5 members)> \n\nlevel_10\n<KeysViewHDF5 ['channel_1', 'channel_2', 'channel_3', 'channel_4', 'dig_channel_1']> \n\n<HDF5 group \"/00:07:80:0F:80:1A/support/level_10/channel_1\" (6 members)> \n\n<HDF5 dataset \"Mx\": shape (33060, 1), type \"<u2\"> \n\n<HDF5 dataset \"mean\": shape (33060, 1), type \"<f4\"> \n\n<HDF5 dataset \"mean_x2\": shape (33060, 1), type \"<u4\"> \n\n<HDF5 dataset \"mx\": shape (33060, 1), type \"<u2\"> \n\n<HDF5 dataset \"sd\": shape (33060, 1), type \"<f4\"> \n\n<HDF5 dataset \"t\": shape (33060, 1), type \"<u4\"> \n\n<HDF5 group \"/00:07:80:0F:80:1A/support/level_10/channel_2\" (6 members)> \n\n<HDF5 dataset \"Mx\": shape (33060, 1), type \"<u2\"> \n\n<HDF5 dataset \"mean\": shape (33060, 1), type \"<f4\"> \n\n<HDF5 dataset \"mean_x2\": shape (33060, 1), type \"<u4\"> \n\n<HDF5 dataset \"mx\": shape (33060, 1), type \"<u2\"> \n\n<HDF5 dataset \"sd\": shape (33060, 1), type \"<f4\"> \n\n<HDF5 dataset \"t\": shape (33060, 1), type \"<u4\"> \n\n<HDF5 group \"/00:07:80:0F:80:1A/support/level_10/channel_3\" (6 members)> \n\n<HDF5 dataset \"Mx\": shape (33060, 1), type \"<u2\"> \n\n<HDF5 dataset \"mean\": shape (33060, 1), type \"<f4\"> \n\n<HDF5 dataset \"mean_x2\": shape (33060, 1), type \"<u4\"> \n\n<HDF5 dataset \"mx\": shape (33060, 1), type \"<u2\"> \n\n<HDF5 dataset \"sd\": shape (33060, 1), type \"<f4\"> \n\n<HDF5 dataset \"t\": shape (33060, 1), type \"<u4\"> \n\n<HDF5 group \"/00:07:80:0F:80:1A/support/level_10/channel_4\" (6 members)> \n\n<HDF5 dataset \"Mx\": shape (33060, 1), type \"<u2\"> \n\n<HDF5 dataset \"mean\": shape (33060, 1), type \"<f4\"> \n\n<HDF5 dataset \"mean_x2\": shape (33060, 1), type \"<u4\"> \n\n<HDF5 dataset \"mx\": shape (33060, 1), type \"<u2\"> \n\n<HDF5 dataset \"sd\": shape (33060, 1), type \"<f4\"> \n\n<HDF5 dataset \"t\": shape (33060, 1), type \"<u4\"> \n\n<HDF5 group \"/00:07:80:0F:80:1A/support/level_10/dig_channel_1\" (6 members)> \n\n<HDF5 dataset \"Mx\": shape (33060, 1), type \"<u2\"> \n\n<HDF5 dataset \"mean\": shape (33060, 1), type \"<f4\"> \n\n<HDF5 dataset \"mean_x2\": shape (33060, 1), type \"<u4\"> \n\n<HDF5 dataset \"mx\": shape (33060, 1), type \"<u2\"> \n\n<HDF5 dataset \"sd\": shape (33060, 1), type \"<f4\"> \n\n<HDF5 dataset \"t\": shape (33060, 1), type \"<u4\"> \n\nlevel_100\n<KeysViewHDF5 ['channel_1', 'channel_2', 'channel_3', 'channel_4', 'dig_channel_1']> \n\n<HDF5 group \"/00:07:80:0F:80:1A/support/level_100/channel_1\" (6 members)> \n\n<HDF5 dataset \"Mx\": shape (3306, 1), type \"<u2\"> \n\n<HDF5 dataset \"mean\": shape (3306, 1), type \"<f4\"> \n\n<HDF5 dataset \"mean_x2\": shape (3306, 1), type \"<u4\"> \n\n<HDF5 dataset \"mx\": shape (3306, 1), type \"<u2\"> \n\n<HDF5 dataset \"sd\": shape (3306, 1), type \"<f4\"> \n\n<HDF5 dataset \"t\": shape (3306, 1), type \"<u4\"> \n\n<HDF5 group \"/00:07:80:0F:80:1A/support/level_100/channel_2\" (6 members)> \n\n<HDF5 dataset \"Mx\": shape (3306, 1), type \"<u2\"> \n\n<HDF5 dataset \"mean\": shape (3306, 1), type \"<f4\"> \n\n<HDF5 dataset \"mean_x2\": shape (3306, 1), type \"<u4\"> \n\n<HDF5 dataset \"mx\": shape (3306, 1), type \"<u2\"> \n\n<HDF5 dataset \"sd\": shape (3306, 1), type \"<f4\"> \n\n<HDF5 dataset \"t\": shape (3306, 1), type \"<u4\"> \n\n<HDF5 group \"/00:07:80:0F:80:1A/support/level_100/channel_3\" (6 members)> \n\n<HDF5 dataset \"Mx\": shape (3306, 1), type \"<u2\"> \n\n<HDF5 dataset \"mean\": shape (3306, 1), type \"<f4\"> \n\n<HDF5 dataset \"mean_x2\": shape (3306, 1), type \"<u4\"> \n\n<HDF5 dataset \"mx\": shape (3306, 1), type \"<u2\"> \n\n<HDF5 dataset \"sd\": shape (3306, 1), type \"<f4\"> \n\n<HDF5 dataset \"t\": shape (3306, 1), type \"<u4\"> \n\n<HDF5 group \"/00:07:80:0F:80:1A/support/level_100/channel_4\" (6 members)> \n\n<HDF5 dataset \"Mx\": shape (3306, 1), type \"<u2\"> \n\n<HDF5 dataset \"mean\": shape (3306, 1), type \"<f4\"> \n\n<HDF5 dataset \"mean_x2\": shape (3306, 1), type \"<u4\"> \n\n<HDF5 dataset \"mx\": shape (3306, 1), type \"<u2\"> \n\n<HDF5 dataset \"sd\": shape (3306, 1), type \"<f4\"> \n\n<HDF5 dataset \"t\": shape (3306, 1), type \"<u4\"> \n\n<HDF5 group \"/00:07:80:0F:80:1A/support/level_100/dig_channel_1\" (6 members)> \n\n<HDF5 dataset \"Mx\": shape (3306, 1), type \"<u2\"> \n\n<HDF5 dataset \"mean\": shape (3306, 1), type \"<f4\"> \n\n<HDF5 dataset \"mean_x2\": shape (3306, 1), type \"<u4\"> \n\n<HDF5 dataset \"mx\": shape (3306, 1), type \"<u2\"> \n\n<HDF5 dataset \"sd\": shape (3306, 1), type \"<f4\"> \n\n<HDF5 dataset \"t\": shape (3306, 1), type \"<u4\"> \n\nlevel_1000\n<KeysViewHDF5 ['channel_1', 'channel_2', 'channel_3', 'channel_4', 'dig_channel_1']> \n\n<HDF5 group \"/00:07:80:0F:80:1A/support/level_1000/channel_1\" (6 members)> \n\n<HDF5 dataset \"Mx\": shape (330, 1), type \"<u2\"> \n\n<HDF5 dataset \"mean\": shape (330, 1), type \"<f4\"> \n\n<HDF5 dataset \"mean_x2\": shape (330, 1), type \"<u4\"> \n\n<HDF5 dataset \"mx\": shape (330, 1), type \"<u2\"> \n\n<HDF5 dataset \"sd\": shape (330, 1), type \"<f4\"> \n\n<HDF5 dataset \"t\": shape (330, 1), type \"<u4\"> \n\n<HDF5 group \"/00:07:80:0F:80:1A/support/level_1000/channel_2\" (6 members)> \n\n<HDF5 dataset \"Mx\": shape (330, 1), type \"<u2\"> \n\n<HDF5 dataset \"mean\": shape (330, 1), type \"<f4\"> \n\n<HDF5 dataset \"mean_x2\": shape (330, 1), type \"<u4\"> \n\n<HDF5 dataset \"mx\": shape (330, 1), type \"<u2\"> \n\n<HDF5 dataset \"sd\": shape (330, 1), type \"<f4\"> \n\n<HDF5 dataset \"t\": shape (330, 1), type \"<u4\"> \n\n<HDF5 group \"/00:07:80:0F:80:1A/support/level_1000/channel_3\" (6 members)> \n\n<HDF5 dataset \"Mx\": shape (330, 1), type \"<u2\"> \n\n<HDF5 dataset \"mean\": shape (330, 1), type \"<f4\"> \n\n<HDF5 dataset \"mean_x2\": shape (330, 1), type \"<u4\"> \n\n<HDF5 dataset \"mx\": shape (330, 1), type \"<u2\"> \n\n<HDF5 dataset \"sd\": shape (330, 1), type \"<f4\"> \n\n<HDF5 dataset \"t\": shape (330, 1), type \"<u4\"> \n\n<HDF5 group \"/00:07:80:0F:80:1A/support/level_1000/channel_4\" (6 members)> \n\n<HDF5 dataset \"Mx\": shape (330, 1), type \"<u2\"> \n\n<HDF5 dataset \"mean\": shape (330, 1), type \"<f4\"> \n\n<HDF5 dataset \"mean_x2\": shape (330, 1), type \"<u4\"> \n\n<HDF5 dataset \"mx\": shape (330, 1), type \"<u2\"> \n\n<HDF5 dataset \"sd\": shape (330, 1), type \"<f4\"> \n\n<HDF5 dataset \"t\": shape (330, 1), type \"<u4\"> \n\n<HDF5 group \"/00:07:80:0F:80:1A/support/level_1000/dig_channel_1\" (6 members)> \n\n<HDF5 dataset \"Mx\": shape (330, 1), type \"<u2\"> \n\n<HDF5 dataset \"mean\": shape (330, 1), type \"<f4\"> \n\n<HDF5 dataset \"mean_x2\": shape (330, 1), type \"<u4\"> \n\n<HDF5 dataset \"mx\": shape (330, 1), type \"<u2\"> \n\n<HDF5 dataset \"sd\": shape (330, 1), type \"<f4\"> \n\n<HDF5 dataset \"t\": shape (330, 1), type \"<u4\"> \n\n"
     ]
    }
   ],
   "source": [
    "def afficheLabels():\n",
    "    for key in dset1.keys():\n",
    "        print(key)\n",
    "        print(f'{list(dset1[key].keys())}')\n",
    "        for subkey in dset1[key].keys():\n",
    "            print(f'{dset1[key][subkey]} \\n')\n",
    "#afficheLabels()\n",
    "\n",
    "def afficheLabelsSupport():\n",
    "    l = 'support'\n",
    "    for key in dset1['support'].keys():\n",
    "        print(key)\n",
    "        print(f'{dset1[l][key].keys()} \\n')\n",
    "        for subkey in dset1[l][key].keys():\n",
    "            print(f'{dset1[l][key][subkey]} \\n')\n",
    "            for subsubkey in dset1[l][key][subkey].keys():\n",
    "                print(f'{dset1[l][key][subkey][subsubkey]} \\n')\n",
    "#afficheLabelsSupport()\n",
    "data = dset1['support']['level_1000']['channel_1']['Mx']"
   ]
  },
  {
   "source": [
    "# Architecture des données\n",
    "Les fichiers x_stress.h5 sont organisé de la manière suivante\n",
    "* Le nom de l'appareil '00:07:80:0F:80:1A'\n",
    "    * digital : \n",
    "        * digital_1 : Grande liste de 0\n",
    "    * events\n",
    "        * digital : Un tableau [2,0,0,0] correspondant à l'intervalle de synchronisation\n",
    "        * sync : Un tableau vide\n",
    "    * plugin : Un groupe avec des Datasets vides \n",
    "    * raw :\n",
    "        * channel_1 : Un tableau de 330600 entrées correspondant aux valeurs de l'EGG\n",
    "        * channel_2 : Un tableau de 330600 entrées correspondant aux valeurs de l'EDA\n",
    "        * channel_3 : Un tableau de 330600 entrées correspondant aux valeurs du taux de respiration\n",
    "        * channel_4 : Un tableau de 330600 entrées correspondant aux valeurs de l'accéleromètre\n",
    "        * nSeq : Un tableau de 0 à 330599 correspondant à l'échantillonnage\n",
    "    * support : \n",
    "        * level_10 :\n",
    "            * channel_1 : \n",
    "                * Mx : \n",
    "                * mean : \n",
    "                * mean_x2 : \n",
    "                * mx : \n",
    "                * sd :\n",
    "                * t : \n",
    "            * channel_2 : Idem\n",
    "            * channel_3 : Idem\n",
    "            * channel_4 : Idem\n",
    "            * dig_channel_1 :\n",
    "        * level_100 : Idem avec une taille de 3306\n",
    "        * level_1000 : Idem avec une taille de 330\n",
    "\n",
    "# Conclusion\n",
    "Les données à traiter se trouvent dans '/00:07:80:0F:80:1A/raw' et '/00:07:80:0F:80:1A/support/level_x' qu'ils faut examiner"
   ],
   "cell_type": "markdown",
   "metadata": {}
  }
 ]
}